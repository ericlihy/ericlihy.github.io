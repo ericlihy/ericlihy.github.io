import pandas as pd

# Load the dataset from the subfolder
file_path = "data/superhero_data.csv"  # Adjust the filename if necessary
data = pd.read_csv(file_path)

# Extract unique publishers
unique_publishers = data['publisher'].unique()

# Display the result
print("Unique Publishers:", unique_publishers)